{
  "nbformat": 4,
  "nbformat_minor": 0,
  "metadata": {
    "colab": {
      "name": "2019.PR.TermProject(BoW_weak feature).ipynb",
      "provenance": [],
      "collapsed_sections": []
    },
    "kernelspec": {
      "name": "python3",
      "display_name": "Python 3"
    },
    "accelerator": "GPU",
    "widgets": {
      "application/vnd.jupyter.widget-state+json": {
        "3b8f7dd388724e75bf39121336fc1d06": {
          "model_module": "@jupyter-widgets/controls",
          "model_name": "HBoxModel",
          "state": {
            "_view_name": "HBoxView",
            "_dom_classes": [],
            "_model_name": "HBoxModel",
            "_view_module": "@jupyter-widgets/controls",
            "_model_module_version": "1.5.0",
            "_view_count": null,
            "_view_module_version": "1.5.0",
            "box_style": "",
            "layout": "IPY_MODEL_0642142dbde64d3684d96aaf080a3380",
            "_model_module": "@jupyter-widgets/controls",
            "children": [
              "IPY_MODEL_ec9ec0fe2fa345ee8f7c4ba97d745bc0",
              "IPY_MODEL_9658d8fc19634aed9ad53d49fe13ef88"
            ]
          }
        },
        "0642142dbde64d3684d96aaf080a3380": {
          "model_module": "@jupyter-widgets/base",
          "model_name": "LayoutModel",
          "state": {
            "_view_name": "LayoutView",
            "grid_template_rows": null,
            "right": null,
            "justify_content": null,
            "_view_module": "@jupyter-widgets/base",
            "overflow": null,
            "_model_module_version": "1.2.0",
            "_view_count": null,
            "flex_flow": null,
            "width": null,
            "min_width": null,
            "border": null,
            "align_items": null,
            "bottom": null,
            "_model_module": "@jupyter-widgets/base",
            "top": null,
            "grid_column": null,
            "overflow_y": null,
            "overflow_x": null,
            "grid_auto_flow": null,
            "grid_area": null,
            "grid_template_columns": null,
            "flex": null,
            "_model_name": "LayoutModel",
            "justify_items": null,
            "grid_row": null,
            "max_height": null,
            "align_content": null,
            "visibility": null,
            "align_self": null,
            "height": null,
            "min_height": null,
            "padding": null,
            "grid_auto_rows": null,
            "grid_gap": null,
            "max_width": null,
            "order": null,
            "_view_module_version": "1.2.0",
            "grid_template_areas": null,
            "object_position": null,
            "object_fit": null,
            "grid_auto_columns": null,
            "margin": null,
            "display": null,
            "left": null
          }
        },
        "ec9ec0fe2fa345ee8f7c4ba97d745bc0": {
          "model_module": "@jupyter-widgets/controls",
          "model_name": "IntProgressModel",
          "state": {
            "_view_name": "ProgressView",
            "style": "IPY_MODEL_08f128a7a00e43049ecd1f9bc45e445b",
            "_dom_classes": [],
            "description": "",
            "_model_name": "IntProgressModel",
            "bar_style": "success",
            "max": 102,
            "_view_module": "@jupyter-widgets/controls",
            "_model_module_version": "1.5.0",
            "value": 102,
            "_view_count": null,
            "_view_module_version": "1.5.0",
            "orientation": "horizontal",
            "min": 0,
            "description_tooltip": null,
            "_model_module": "@jupyter-widgets/controls",
            "layout": "IPY_MODEL_76dcd2f1552d491d90f85eecc487ef9a"
          }
        },
        "9658d8fc19634aed9ad53d49fe13ef88": {
          "model_module": "@jupyter-widgets/controls",
          "model_name": "HTMLModel",
          "state": {
            "_view_name": "HTMLView",
            "style": "IPY_MODEL_8ea56417ecea46d682cd58a833761866",
            "_dom_classes": [],
            "description": "",
            "_model_name": "HTMLModel",
            "placeholder": "​",
            "_view_module": "@jupyter-widgets/controls",
            "_model_module_version": "1.5.0",
            "value": "100% 102/102 [02:14&lt;00:00,  1.23s/it]",
            "_view_count": null,
            "_view_module_version": "1.5.0",
            "description_tooltip": null,
            "_model_module": "@jupyter-widgets/controls",
            "layout": "IPY_MODEL_9a1b589dd63245c4a6c647907a66a307"
          }
        },
        "08f128a7a00e43049ecd1f9bc45e445b": {
          "model_module": "@jupyter-widgets/controls",
          "model_name": "ProgressStyleModel",
          "state": {
            "_view_name": "StyleView",
            "_model_name": "ProgressStyleModel",
            "description_width": "",
            "_view_module": "@jupyter-widgets/base",
            "_model_module_version": "1.5.0",
            "_view_count": null,
            "_view_module_version": "1.2.0",
            "bar_color": null,
            "_model_module": "@jupyter-widgets/controls"
          }
        },
        "76dcd2f1552d491d90f85eecc487ef9a": {
          "model_module": "@jupyter-widgets/base",
          "model_name": "LayoutModel",
          "state": {
            "_view_name": "LayoutView",
            "grid_template_rows": null,
            "right": null,
            "justify_content": null,
            "_view_module": "@jupyter-widgets/base",
            "overflow": null,
            "_model_module_version": "1.2.0",
            "_view_count": null,
            "flex_flow": null,
            "width": null,
            "min_width": null,
            "border": null,
            "align_items": null,
            "bottom": null,
            "_model_module": "@jupyter-widgets/base",
            "top": null,
            "grid_column": null,
            "overflow_y": null,
            "overflow_x": null,
            "grid_auto_flow": null,
            "grid_area": null,
            "grid_template_columns": null,
            "flex": null,
            "_model_name": "LayoutModel",
            "justify_items": null,
            "grid_row": null,
            "max_height": null,
            "align_content": null,
            "visibility": null,
            "align_self": null,
            "height": null,
            "min_height": null,
            "padding": null,
            "grid_auto_rows": null,
            "grid_gap": null,
            "max_width": null,
            "order": null,
            "_view_module_version": "1.2.0",
            "grid_template_areas": null,
            "object_position": null,
            "object_fit": null,
            "grid_auto_columns": null,
            "margin": null,
            "display": null,
            "left": null
          }
        },
        "8ea56417ecea46d682cd58a833761866": {
          "model_module": "@jupyter-widgets/controls",
          "model_name": "DescriptionStyleModel",
          "state": {
            "_view_name": "StyleView",
            "_model_name": "DescriptionStyleModel",
            "description_width": "",
            "_view_module": "@jupyter-widgets/base",
            "_model_module_version": "1.5.0",
            "_view_count": null,
            "_view_module_version": "1.2.0",
            "_model_module": "@jupyter-widgets/controls"
          }
        },
        "9a1b589dd63245c4a6c647907a66a307": {
          "model_module": "@jupyter-widgets/base",
          "model_name": "LayoutModel",
          "state": {
            "_view_name": "LayoutView",
            "grid_template_rows": null,
            "right": null,
            "justify_content": null,
            "_view_module": "@jupyter-widgets/base",
            "overflow": null,
            "_model_module_version": "1.2.0",
            "_view_count": null,
            "flex_flow": null,
            "width": null,
            "min_width": null,
            "border": null,
            "align_items": null,
            "bottom": null,
            "_model_module": "@jupyter-widgets/base",
            "top": null,
            "grid_column": null,
            "overflow_y": null,
            "overflow_x": null,
            "grid_auto_flow": null,
            "grid_area": null,
            "grid_template_columns": null,
            "flex": null,
            "_model_name": "LayoutModel",
            "justify_items": null,
            "grid_row": null,
            "max_height": null,
            "align_content": null,
            "visibility": null,
            "align_self": null,
            "height": null,
            "min_height": null,
            "padding": null,
            "grid_auto_rows": null,
            "grid_gap": null,
            "max_width": null,
            "order": null,
            "_view_module_version": "1.2.0",
            "grid_template_areas": null,
            "object_position": null,
            "object_fit": null,
            "grid_auto_columns": null,
            "margin": null,
            "display": null,
            "left": null
          }
        }
      }
    }
  },
  "cells": [
    {
      "cell_type": "markdown",
      "metadata": {
        "id": "aXGkjirzlgMm",
        "colab_type": "text"
      },
      "source": [
        "## 캐글 사용을 위한 설정"
      ]
    },
    {
      "cell_type": "code",
      "metadata": {
        "id": "75uF7Zasho3A",
        "colab_type": "code",
        "outputId": "8e58fc4d-5772-498e-9994-67f2039020c7",
        "colab": {
          "base_uri": "https://localhost:8080/",
          "height": 469
        }
      },
      "source": [
        "# 캐글 API 버전 갱신을 위한 작업... 반드시 버전이 1.5.6 이어야 함\n",
        "\n",
        "!ls -lha kaggle.json\n",
        "\n",
        "!pip uninstall -y kaggle\n",
        "!pip install --upgrade pip\n",
        "!pip install kaggle==1.5.6"
      ],
      "execution_count": 0,
      "outputs": [
        {
          "output_type": "stream",
          "text": [
            "-rw-r--r-- 1 root root 69 Dec 10 06:31 kaggle.json\n",
            "Uninstalling kaggle-1.5.6:\n",
            "  Successfully uninstalled kaggle-1.5.6\n",
            "Requirement already up-to-date: pip in /usr/local/lib/python3.6/dist-packages (19.3.1)\n",
            "Collecting kaggle==1.5.6\n",
            "\u001b[?25l  Downloading https://files.pythonhosted.org/packages/62/ab/bb20f9b9e24f9a6250f95a432f8d9a7d745f8d24039d7a5a6eaadb7783ba/kaggle-1.5.6.tar.gz (58kB)\n",
            "\u001b[K     |████████████████████████████████| 61kB 9.2MB/s \n",
            "\u001b[?25hRequirement already satisfied: urllib3<1.25,>=1.21.1 in /usr/local/lib/python3.6/dist-packages (from kaggle==1.5.6) (1.24.3)\n",
            "Requirement already satisfied: six>=1.10 in /usr/local/lib/python3.6/dist-packages (from kaggle==1.5.6) (1.12.0)\n",
            "Requirement already satisfied: certifi in /usr/local/lib/python3.6/dist-packages (from kaggle==1.5.6) (2019.11.28)\n",
            "Requirement already satisfied: python-dateutil in /usr/local/lib/python3.6/dist-packages (from kaggle==1.5.6) (2.6.1)\n",
            "Requirement already satisfied: requests in /usr/local/lib/python3.6/dist-packages (from kaggle==1.5.6) (2.21.0)\n",
            "Requirement already satisfied: tqdm in /usr/local/lib/python3.6/dist-packages (from kaggle==1.5.6) (4.28.1)\n",
            "Requirement already satisfied: python-slugify in /usr/local/lib/python3.6/dist-packages (from kaggle==1.5.6) (4.0.0)\n",
            "Requirement already satisfied: chardet<3.1.0,>=3.0.2 in /usr/local/lib/python3.6/dist-packages (from requests->kaggle==1.5.6) (3.0.4)\n",
            "Requirement already satisfied: idna<2.9,>=2.5 in /usr/local/lib/python3.6/dist-packages (from requests->kaggle==1.5.6) (2.8)\n",
            "Requirement already satisfied: text-unidecode>=1.3 in /usr/local/lib/python3.6/dist-packages (from python-slugify->kaggle==1.5.6) (1.3)\n",
            "Building wheels for collected packages: kaggle\n",
            "  Building wheel for kaggle (setup.py) ... \u001b[?25l\u001b[?25hdone\n",
            "  Created wheel for kaggle: filename=kaggle-1.5.6-cp36-none-any.whl size=72859 sha256=fed6e900437ad2674763880ba4398a569022d0128d99ea29c7132759692161c5\n",
            "  Stored in directory: /root/.cache/pip/wheels/57/4e/e8/bb28d035162fb8f17f8ca5d42c3230e284c6aa565b42b72674\n",
            "Successfully built kaggle\n",
            "Installing collected packages: kaggle\n",
            "Successfully installed kaggle-1.5.6\n"
          ],
          "name": "stdout"
        }
      ]
    },
    {
      "cell_type": "code",
      "metadata": {
        "id": "ATHqivTLhuy3",
        "colab_type": "code",
        "outputId": "fde860e0-476e-4271-cbc4-db81e77d27e1",
        "colab": {
          "base_uri": "https://localhost:8080/",
          "height": 35
        }
      },
      "source": [
        "# 캐글연동을 위한 토큰 입력\n",
        "! mkdir -p ~/.kaggle\n",
        "! cp kaggle.json ~/.kaggle/\n",
        "! chmod 600 ~/.kaggle/kaggle.json\n",
        "\n",
        "\n",
        "# 버전이 1.5.6 이 아니면, 진행할 수 없다\n",
        "! kaggle -v"
      ],
      "execution_count": 0,
      "outputs": [
        {
          "output_type": "stream",
          "text": [
            "Kaggle API 1.5.6\n"
          ],
          "name": "stdout"
        }
      ]
    },
    {
      "cell_type": "markdown",
      "metadata": {
        "id": "DeW6ihNTlL2i",
        "colab_type": "text"
      },
      "source": [
        "## 데이터 셋 다운로드 후 압축 풀기"
      ]
    },
    {
      "cell_type": "code",
      "metadata": {
        "id": "zZhqHQ_tiCJm",
        "colab_type": "code",
        "outputId": "b61235d5-f386-4797-b7d2-d0603628c4de",
        "colab": {
          "base_uri": "https://localhost:8080/",
          "height": 71
        }
      },
      "source": [
        "! kaggle competitions download -c 2019-ml-finalproject\n",
        "\n",
        "import zipfile\n",
        "import os\n",
        "\n",
        "os.mkdir('/content/input2')"
      ],
      "execution_count": 0,
      "outputs": [
        {
          "output_type": "stream",
          "text": [
            "Downloading 2019-ml-finalproject.zip to /content\n",
            " 75% 49.0M/65.0M [00:03<00:01, 9.14MB/s]\n",
            "100% 65.0M/65.0M [00:03<00:00, 19.7MB/s]\n"
          ],
          "name": "stdout"
        }
      ]
    },
    {
      "cell_type": "code",
      "metadata": {
        "id": "7a_TsktEjpLy",
        "colab_type": "code",
        "colab": {}
      },
      "source": [
        "zip_ref = zipfile.ZipFile(\"/content/2019-ml-finalproject.zip\", 'r')\n",
        "zip_ref.extractall(\"/content/input2\")\n",
        "zip_ref.close()"
      ],
      "execution_count": 0,
      "outputs": []
    },
    {
      "cell_type": "markdown",
      "metadata": {
        "id": "PGxzeWYVJLN_",
        "colab_type": "text"
      },
      "source": [
        "## SIFT 사용을 위한 설정"
      ]
    },
    {
      "cell_type": "code",
      "metadata": {
        "id": "NGCi966DpUm_",
        "colab_type": "code",
        "outputId": "8ac89a72-05e4-4e84-a389-f7b26d77f933",
        "colab": {
          "base_uri": "https://localhost:8080/",
          "height": 433
        }
      },
      "source": [
        "! yes | pip3 uninstall opencv-python\n",
        "! yes | pip3 uninstall opencv-contrib-python\n",
        "! yes | pip3 install opencv-python==3.4.2.16\n",
        "! yes | pip3 install opencv-contrib-python==3.4.2.16"
      ],
      "execution_count": 0,
      "outputs": [
        {
          "output_type": "stream",
          "text": [
            "Uninstalling opencv-python-4.1.2.30:\n",
            "  Would remove:\n",
            "    /usr/local/lib/python3.6/dist-packages/cv2/*\n",
            "    /usr/local/lib/python3.6/dist-packages/opencv_python-4.1.2.30.dist-info/*\n",
            "Proceed (y/n)?   Successfully uninstalled opencv-python-4.1.2.30\n",
            "Uninstalling opencv-contrib-python-4.1.2.30:\n",
            "  Would remove:\n",
            "    /usr/local/lib/python3.6/dist-packages/opencv_contrib_python-4.1.2.30.dist-info/*\n",
            "Proceed (y/n)?   Successfully uninstalled opencv-contrib-python-4.1.2.30\n",
            "Collecting opencv-python==3.4.2.16\n",
            "\u001b[?25l  Downloading https://files.pythonhosted.org/packages/fa/7d/5042b668a8ed41d2a80b8c172f5efcd572e3c046c75ae029407e19b7fc68/opencv_python-3.4.2.16-cp36-cp36m-manylinux1_x86_64.whl (25.0MB)\n",
            "\u001b[K     |████████████████████████████████| 25.0MB 1.6MB/s \n",
            "\u001b[?25hRequirement already satisfied: numpy>=1.11.3 in /usr/local/lib/python3.6/dist-packages (from opencv-python==3.4.2.16) (1.17.4)\n",
            "\u001b[31mERROR: albumentations 0.1.12 has requirement imgaug<0.2.7,>=0.2.5, but you'll have imgaug 0.2.9 which is incompatible.\u001b[0m\n",
            "Installing collected packages: opencv-python\n",
            "Successfully installed opencv-python-3.4.2.16\n",
            "Collecting opencv-contrib-python==3.4.2.16\n",
            "\u001b[?25l  Downloading https://files.pythonhosted.org/packages/08/f1/66330f4042c4fb3b2d77a159db8e8916d9cdecc29bc8c1f56bc7f8a9bec9/opencv_contrib_python-3.4.2.16-cp36-cp36m-manylinux1_x86_64.whl (30.6MB)\n",
            "\u001b[K     |████████████████████████████████| 30.6MB 1.3MB/s \n",
            "\u001b[?25hRequirement already satisfied: numpy>=1.11.3 in /usr/local/lib/python3.6/dist-packages (from opencv-contrib-python==3.4.2.16) (1.17.4)\n",
            "Installing collected packages: opencv-contrib-python\n",
            "Successfully installed opencv-contrib-python-3.4.2.16\n"
          ],
          "name": "stdout"
        }
      ]
    },
    {
      "cell_type": "markdown",
      "metadata": {
        "id": "kZO-us8IlZjw",
        "colab_type": "text"
      },
      "source": [
        "## 라이브러리 로드"
      ]
    },
    {
      "cell_type": "code",
      "metadata": {
        "id": "62_fAsevkj6K",
        "colab_type": "code",
        "colab": {}
      },
      "source": [
        "from imutils import paths\n",
        "import numpy as np\n",
        "import imutils \n",
        "import cv2 \n",
        "import os\n",
        "import pandas as pd\n",
        "from tqdm import tqdm_notebook as tqdm\n",
        "\n",
        "from sklearn.cluster import KMeans\n",
        "from sklearn.svm import SVC\n",
        "from sklearn.model_selection import train_test_split\n",
        "from sklearn.decomposition import PCA\n",
        "from sklearn.model_selection import GridSearchCV\n",
        "from sklearn.pipeline import make_pipeline"
      ],
      "execution_count": 0,
      "outputs": []
    },
    {
      "cell_type": "markdown",
      "metadata": {
        "id": "2Jlk_8_0lmWq",
        "colab_type": "text"
      },
      "source": [
        "## 학습 데이터 준비"
      ]
    },
    {
      "cell_type": "code",
      "metadata": {
        "id": "HCInIkhvatqL",
        "colab_type": "code",
        "colab": {}
      },
      "source": [
        "#df_train = pd.read_csv(\"/content/input2/Label2Names.csv\", header=None)"
      ],
      "execution_count": 0,
      "outputs": []
    },
    {
      "cell_type": "code",
      "metadata": {
        "id": "wLQmGvnL2dym",
        "colab_type": "code",
        "outputId": "c87015af-0564-49c6-9d2b-df1f22e3be77",
        "colab": {
          "base_uri": "https://localhost:8080/",
          "height": 419
        }
      },
      "source": [
        "# df_train"
      ],
      "execution_count": 0,
      "outputs": [
        {
          "output_type": "execute_result",
          "data": {
            "text/html": [
              "<div>\n",
              "<style scoped>\n",
              "    .dataframe tbody tr th:only-of-type {\n",
              "        vertical-align: middle;\n",
              "    }\n",
              "\n",
              "    .dataframe tbody tr th {\n",
              "        vertical-align: top;\n",
              "    }\n",
              "\n",
              "    .dataframe thead th {\n",
              "        text-align: right;\n",
              "    }\n",
              "</style>\n",
              "<table border=\"1\" class=\"dataframe\">\n",
              "  <thead>\n",
              "    <tr style=\"text-align: right;\">\n",
              "      <th></th>\n",
              "      <th>0</th>\n",
              "      <th>1</th>\n",
              "    </tr>\n",
              "  </thead>\n",
              "  <tbody>\n",
              "    <tr>\n",
              "      <th>0</th>\n",
              "      <td>1</td>\n",
              "      <td>Faces</td>\n",
              "    </tr>\n",
              "    <tr>\n",
              "      <th>1</th>\n",
              "      <td>2</td>\n",
              "      <td>Faces_easy</td>\n",
              "    </tr>\n",
              "    <tr>\n",
              "      <th>2</th>\n",
              "      <td>3</td>\n",
              "      <td>Leopards</td>\n",
              "    </tr>\n",
              "    <tr>\n",
              "      <th>3</th>\n",
              "      <td>4</td>\n",
              "      <td>Motorbikes</td>\n",
              "    </tr>\n",
              "    <tr>\n",
              "      <th>4</th>\n",
              "      <td>5</td>\n",
              "      <td>accordion</td>\n",
              "    </tr>\n",
              "    <tr>\n",
              "      <th>...</th>\n",
              "      <td>...</td>\n",
              "      <td>...</td>\n",
              "    </tr>\n",
              "    <tr>\n",
              "      <th>96</th>\n",
              "      <td>97</td>\n",
              "      <td>wheelchair</td>\n",
              "    </tr>\n",
              "    <tr>\n",
              "      <th>97</th>\n",
              "      <td>98</td>\n",
              "      <td>wild_cat</td>\n",
              "    </tr>\n",
              "    <tr>\n",
              "      <th>98</th>\n",
              "      <td>99</td>\n",
              "      <td>windsor_chair</td>\n",
              "    </tr>\n",
              "    <tr>\n",
              "      <th>99</th>\n",
              "      <td>100</td>\n",
              "      <td>wrench</td>\n",
              "    </tr>\n",
              "    <tr>\n",
              "      <th>100</th>\n",
              "      <td>101</td>\n",
              "      <td>yin_yang</td>\n",
              "    </tr>\n",
              "  </tbody>\n",
              "</table>\n",
              "<p>101 rows × 2 columns</p>\n",
              "</div>"
            ],
            "text/plain": [
              "       0              1\n",
              "0      1          Faces\n",
              "1      2     Faces_easy\n",
              "2      3       Leopards\n",
              "3      4     Motorbikes\n",
              "4      5      accordion\n",
              "..   ...            ...\n",
              "96    97     wheelchair\n",
              "97    98       wild_cat\n",
              "98    99  windsor_chair\n",
              "99   100         wrench\n",
              "100  101       yin_yang\n",
              "\n",
              "[101 rows x 2 columns]"
            ]
          },
          "metadata": {
            "tags": []
          },
          "execution_count": 8
        }
      ]
    },
    {
      "cell_type": "code",
      "metadata": {
        "id": "bYaXMgzcThKy",
        "colab_type": "code",
        "colab": {}
      },
      "source": [
        "# df_train.index[df_train[1]=='wrench'].tolist() # 해당 클래스의 인덱스를 출력하는 방법"
      ],
      "execution_count": 0,
      "outputs": []
    },
    {
      "cell_type": "markdown",
      "metadata": {
        "id": "EC5eQgB0nSZZ",
        "colab_type": "text"
      },
      "source": [
        "### SIFT를 이용하여 feature 검출"
      ]
    },
    {
      "cell_type": "code",
      "metadata": {
        "id": "rVC_Gj0-y6Mt",
        "colab_type": "code",
        "colab": {}
      },
      "source": [
        "def weak_sift_each(img_gray):\n",
        "  sift = cv2.xfeatures2d.SIFT_create()\n",
        "\n",
        "  # kp = sift.detect(image_gray, None)\n",
        "  # kp, des = sift.compute(image_gray, kp)\n",
        "  kp, des = sift.detectAndCompute(image_gray, None)\n",
        "\n",
        "  return kp, des"
      ],
      "execution_count": 0,
      "outputs": []
    },
    {
      "cell_type": "code",
      "metadata": {
        "id": "fHsq6vY2ll7F",
        "colab_type": "code",
        "outputId": "e52df919-b6d3-4324-bbd6-5ee87e7ee601",
        "colab": {
          "base_uri": "https://localhost:8080/",
          "height": 67,
          "referenced_widgets": [
            "3b8f7dd388724e75bf39121336fc1d06",
            "0642142dbde64d3684d96aaf080a3380",
            "ec9ec0fe2fa345ee8f7c4ba97d745bc0",
            "9658d8fc19634aed9ad53d49fe13ef88",
            "08f128a7a00e43049ecd1f9bc45e445b",
            "76dcd2f1552d491d90f85eecc487ef9a",
            "8ea56417ecea46d682cd58a833761866",
            "9a1b589dd63245c4a6c647907a66a307"
          ]
        }
      },
      "source": [
        "data_path_train = \"/content/input2/train/\"\n",
        "\n",
        "y = []\n",
        "images = []\n",
        "labels = []\n",
        "des_list = []\n",
        "\n",
        "for i in tqdm(os.listdir(data_path_train)):\n",
        "  img_cls_path = data_path_train + i + \"/\"  # 이미지 클래스 path\n",
        "  img_path = [img_cls_path + j for j in os.listdir(img_cls_path)]  # 각 클래스 내의 학습이미지 path\n",
        "\n",
        "  if i == \"BACKGROUND_Google\":       # Label2Names.csv에 빠져있는 카테고리 label 지정\n",
        "    label = 102\n",
        "  else:\n",
        "    label = (df_train.index[df_train[1]==i] + 1).tolist()[0]  # 나머지 label 지정\n",
        "  labels.append(label)\n",
        "\n",
        "  for img in img_path:\n",
        "    image = cv2.imread(img)\n",
        "    image_gray = cv2.cvtColor(image, cv2.COLOR_BGR2GRAY)\n",
        "    #image = cv2.resize(image, (300,300))  # <--  그냥 넣어봤는데 굳이 필요?\n",
        "\n",
        "    kp, des = weak_sift_each(image_gray)\n",
        "    des_list.append(des)\n",
        "    y.append(label)"
      ],
      "execution_count": 0,
      "outputs": [
        {
          "output_type": "display_data",
          "data": {
            "application/vnd.jupyter.widget-view+json": {
              "model_id": "3b8f7dd388724e75bf39121336fc1d06",
              "version_minor": 0,
              "version_major": 2
            },
            "text/plain": [
              "HBox(children=(IntProgress(value=0, max=102), HTML(value='')))"
            ]
          },
          "metadata": {
            "tags": []
          }
        },
        {
          "output_type": "stream",
          "text": [
            "\n"
          ],
          "name": "stdout"
        }
      ]
    },
    {
      "cell_type": "code",
      "metadata": {
        "id": "9Iiu95clsHr6",
        "colab_type": "code",
        "colab": {}
      },
      "source": [
        "# image_gray.shape"
      ],
      "execution_count": 0,
      "outputs": []
    },
    {
      "cell_type": "code",
      "metadata": {
        "id": "KZAUWRUfCsiH",
        "colab_type": "code",
        "colab": {}
      },
      "source": [
        "# des_list.append(des) 요놈에 대한 실험용 코드\n",
        "# des_array = np.array(des_list)\n",
        "# des_array[3059].shape"
      ],
      "execution_count": 0,
      "outputs": []
    },
    {
      "cell_type": "code",
      "metadata": {
        "id": "4psqPA9D9fVr",
        "colab_type": "code",
        "outputId": "84be7b84-3fd8-4850-fa04-5f5502f4aa9f",
        "colab": {
          "base_uri": "https://localhost:8080/",
          "height": 72
        }
      },
      "source": [
        "des_tot = np.vstack((descriptor for descriptor in des_list))\n",
        "\n",
        "# 결과는 같은데 아래와 같이도 할 수 있음(시간 더 걸림)\n",
        "# des_tot = des_list[0]\n",
        "# for i in des_list[1:]:\n",
        "#   des_tot = np.vstack([des_tot, i])"
      ],
      "execution_count": 0,
      "outputs": [
        {
          "output_type": "stream",
          "text": [
            "/usr/local/lib/python3.6/dist-packages/ipykernel_launcher.py:1: FutureWarning: arrays to stack must be passed as a \"sequence\" type such as list or tuple. Support for non-sequence iterables such as generators is deprecated as of NumPy 1.16 and will raise an error in the future.\n",
            "  \"\"\"Entry point for launching an IPython kernel.\n"
          ],
          "name": "stderr"
        }
      ]
    },
    {
      "cell_type": "code",
      "metadata": {
        "colab_type": "code",
        "outputId": "d70726af-fcff-4382-ed21-dc7ea6b44f21",
        "id": "drEnFoXpTTG5",
        "colab": {
          "base_uri": "https://localhost:8080/",
          "height": 34
        }
      },
      "source": [
        "des_tot.shape"
      ],
      "execution_count": 0,
      "outputs": [
        {
          "output_type": "execute_result",
          "data": {
            "text/plain": [
              "(1382647, 128)"
            ]
          },
          "metadata": {
            "tags": []
          },
          "execution_count": 15
        }
      ]
    },
    {
      "cell_type": "markdown",
      "metadata": {
        "id": "8Q_r-MAmnZF4",
        "colab_type": "text"
      },
      "source": [
        "## K-Means Clustering을 이용하여 CodeBook 만들기\n"
      ]
    },
    {
      "cell_type": "code",
      "metadata": {
        "id": "X3rot6aSnj2b",
        "colab_type": "code",
        "colab": {}
      },
      "source": [
        "kmeans = KMeans(n_clusters=16, init='k-means++', random_state=0).fit(des_tot)"
      ],
      "execution_count": 0,
      "outputs": []
    },
    {
      "cell_type": "code",
      "metadata": {
        "id": "Twz-QzdROAGF",
        "colab_type": "code",
        "outputId": "7eb4299e-0a32-4ec7-b037-9dcab6e0efb2",
        "colab": {
          "base_uri": "https://localhost:8080/",
          "height": 158
        }
      },
      "source": [
        "codeBook = kmeans.cluster_centers_\n",
        "print(codeBook.shape)\n",
        "print(codeBook)"
      ],
      "execution_count": 0,
      "outputs": [
        {
          "output_type": "stream",
          "text": [
            "(16, 128)\n",
            "[[21.340075  42.56463   53.23497   ... 23.883245  31.679596  26.208311 ]\n",
            " [15.931325  16.578133  20.645033  ... 14.563525  16.107052  18.918446 ]\n",
            " [21.229584  19.666706  19.327774  ... 22.29497   15.845911  15.133426 ]\n",
            " ...\n",
            " [17.283901  12.462314  11.716347  ... 24.895805   5.6408787  6.7464075]\n",
            " [26.936361  16.99792   12.757876  ... 10.890846   8.945466  30.15292  ]\n",
            " [42.650185  24.570862  12.732935  ... 27.250633  13.077035  12.170553 ]]\n"
          ],
          "name": "stdout"
        }
      ]
    },
    {
      "cell_type": "markdown",
      "metadata": {
        "id": "r0MtU9rkDlIL",
        "colab_type": "text"
      },
      "source": [
        "## CodeBook을 통해 각각의 이미지마다 Histogram 작성"
      ]
    },
    {
      "cell_type": "code",
      "metadata": {
        "id": "08-REME-Czyw",
        "colab_type": "code",
        "colab": {}
      },
      "source": [
        "from scipy.cluster.vq import *\n",
        "\n",
        "des_hist = []  # 클래스 당 30장. 총 3060의 이미지(SIFT 추출된)를\n",
        "                # 위에서 제작된 codeBook 통하여 histogram으로 표현\n",
        "\n",
        "for des in des_list:\n",
        "  code, _ = vq(des, codeBook)\n",
        "  code_hist, _ = np.histogram(code, bins=range(codeBook.shape[0]+1))\n",
        "  des_hist.append(code_hist)\n",
        "\n",
        "# for i in range(len(des_list)):\n",
        "#   code, _ = vq(des_list[i], codeBook)\n",
        "#   code_hist, _ = np.histogram(code, bins=range(codeBook.shape[0]+1))\n",
        "#   des_hist.append(code_hist)"
      ],
      "execution_count": 0,
      "outputs": []
    },
    {
      "cell_type": "code",
      "metadata": {
        "id": "Ne0OslQuCifN",
        "colab_type": "code",
        "outputId": "6fae855e-19b1-4415-fce6-21845eb18d85",
        "colab": {
          "base_uri": "https://localhost:8080/",
          "height": 53
        }
      },
      "source": [
        "X = np.array(des_hist)\n",
        "y = np.array(y)\n",
        "print(X.shape)\n",
        "print(y.shape)"
      ],
      "execution_count": 0,
      "outputs": [
        {
          "output_type": "stream",
          "text": [
            "(3060, 16)\n",
            "(3060,)\n"
          ],
          "name": "stdout"
        }
      ]
    },
    {
      "cell_type": "markdown",
      "metadata": {
        "id": "b3lQgzGlGmA3",
        "colab_type": "text"
      },
      "source": [
        "##데이터셋 서브 샘플링 & Train-Validation 나누기(일단 임시)"
      ]
    },
    {
      "cell_type": "code",
      "metadata": {
        "id": "JsOJZybuGEbX",
        "colab_type": "code",
        "colab": {}
      },
      "source": [
        "X_train, X_valid, y_train, y_valid = train_test_split(X, y, test_size=0.1, random_state=0)"
      ],
      "execution_count": 0,
      "outputs": []
    },
    {
      "cell_type": "markdown",
      "metadata": {
        "id": "laTiXsb0HanW",
        "colab_type": "text"
      },
      "source": [
        "##SVM 분류기 설계"
      ]
    },
    {
      "cell_type": "code",
      "metadata": {
        "id": "vS6emUC4HZi0",
        "colab_type": "code",
        "outputId": "84b7cec9-5af6-463d-8b7e-d603ff8875fd",
        "colab": {
          "base_uri": "https://localhost:8080/",
          "height": 163
        }
      },
      "source": [
        "pca = PCA(n_components=None)\n",
        "svc = SVC(kernel='rbf', class_weight='balanced')\n",
        "model = make_pipeline(pca, svc)\n",
        "\n",
        "param_grid = {'svc__C': [0.1, 0.5, 1, 5, 10],\n",
        "              'svc__gamma': [0.00005, 0.0001, 0.0005, 0.001, 0.005, 0.01]}\n",
        "\n",
        "grid = GridSearchCV(model, param_grid)\n",
        "%time grid.fit(X_train, y_train)\n",
        "print(grid.best_params_)"
      ],
      "execution_count": 0,
      "outputs": [
        {
          "output_type": "stream",
          "text": [
            "/usr/local/lib/python3.6/dist-packages/sklearn/model_selection/_split.py:1978: FutureWarning: The default value of cv will change from 3 to 5 in version 0.22. Specify it explicitly to silence this warning.\n",
            "  warnings.warn(CV_WARNING, FutureWarning)\n",
            "/usr/local/lib/python3.6/dist-packages/sklearn/model_selection/_search.py:814: DeprecationWarning: The default of the `iid` parameter will change from True to False in version 0.22 and will be removed in 0.24. This will change numeric results when test-set sizes are unequal.\n",
            "  DeprecationWarning)\n"
          ],
          "name": "stderr"
        },
        {
          "output_type": "stream",
          "text": [
            "CPU times: user 1min 16s, sys: 9.08 s, total: 1min 25s\n",
            "Wall time: 1min 14s\n",
            "{'svc__C': 5, 'svc__gamma': 0.0001}\n"
          ],
          "name": "stdout"
        }
      ]
    },
    {
      "cell_type": "markdown",
      "metadata": {
        "id": "HFywCgB4Mfwn",
        "colab_type": "text"
      },
      "source": [
        "## 테스트 데이터 준비"
      ]
    },
    {
      "cell_type": "code",
      "metadata": {
        "id": "cg93wHz1MdE9",
        "colab_type": "code",
        "outputId": "258c3ea9-0a57-4ff0-9c6f-eef08df47733",
        "colab": {
          "base_uri": "https://localhost:8080/",
          "height": 35,
          "referenced_widgets": [
            "4b46bbd23d50468c96d363a50f75993c"
          ]
        }
      },
      "source": [
        "data_root_test = \"/content/input2/testAll_v2/\"\n",
        "\n",
        "img_list = os.listdir(data_root_test)\n",
        "des_list_test = []\n",
        "\n",
        "img_path_test = [data_root_test + i for i in img_list]\n",
        "\n",
        "for img in tqdm(img_path_test):\n",
        "  image = cv2.imread(img)\n",
        "  image_gray = cv2.cvtColor(image, cv2.COLOR_BGR2GRAY)\n",
        "\n",
        "  kp, des = weak_sift_each(image_gray)\n",
        "  des_list_test.append(des)"
      ],
      "execution_count": 0,
      "outputs": [
        {
          "output_type": "display_data",
          "data": {
            "application/vnd.jupyter.widget-view+json": {
              "model_id": "4b46bbd23d50468c96d363a50f75993c",
              "version_minor": 0,
              "version_major": 2
            },
            "text/plain": [
              "HBox(children=(IntProgress(value=0, max=1692), HTML(value='')))"
            ]
          },
          "metadata": {
            "tags": []
          }
        },
        {
          "output_type": "stream",
          "text": [
            "\n"
          ],
          "name": "stdout"
        }
      ]
    },
    {
      "cell_type": "code",
      "metadata": {
        "id": "zxyp3EgmPF11",
        "colab_type": "code",
        "colab": {}
      },
      "source": [
        "des_hist_test = [] \n",
        "\n",
        "for des in des_list_test:\n",
        "  code, _ = vq(des, codeBook)\n",
        "  code_hist, _ = np.histogram(code, bins=range(codeBook.shape[0]+1))\n",
        "  des_hist_test.append(code_hist)"
      ],
      "execution_count": 0,
      "outputs": []
    },
    {
      "cell_type": "code",
      "metadata": {
        "id": "N1tOqnshQDqb",
        "colab_type": "code",
        "outputId": "9c5c20ce-ef8b-46d2-b61a-4df1b112aa46",
        "colab": {
          "base_uri": "https://localhost:8080/",
          "height": 35
        }
      },
      "source": [
        "X_test = np.array(des_hist_test)\n",
        "X_test.shape"
      ],
      "execution_count": 0,
      "outputs": [
        {
          "output_type": "execute_result",
          "data": {
            "text/plain": [
              "(1692, 16)"
            ]
          },
          "metadata": {
            "tags": []
          },
          "execution_count": 44
        }
      ]
    },
    {
      "cell_type": "markdown",
      "metadata": {
        "id": "XB5w97WNQm9L",
        "colab_type": "text"
      },
      "source": [
        "##학습한 모델을 이용하여 테스트 데이터의 라벨 구하기"
      ]
    },
    {
      "cell_type": "code",
      "metadata": {
        "id": "vUc-390FP6c2",
        "colab_type": "code",
        "colab": {}
      },
      "source": [
        "model = grid.best_estimator_\n",
        "y_pred = model.predict(X_test)"
      ],
      "execution_count": 0,
      "outputs": []
    },
    {
      "cell_type": "code",
      "metadata": {
        "id": "XJJxyYyeQIhI",
        "colab_type": "code",
        "colab": {}
      },
      "source": [
        "y_pred = y_pred.reshape(-1,1)\n",
        "result_img_list = np.array(img_list).reshape(-1,1)\n",
        "result = np.hstack([result_img_list,y_pred])"
      ],
      "execution_count": 0,
      "outputs": []
    },
    {
      "cell_type": "code",
      "metadata": {
        "id": "W_nMN66CSyDG",
        "colab_type": "code",
        "outputId": "b9c48eff-5f95-4634-9d63-115a33a3a1ac",
        "colab": {
          "base_uri": "https://localhost:8080/",
          "height": 143
        }
      },
      "source": [
        "print(result)"
      ],
      "execution_count": 0,
      "outputs": [
        {
          "output_type": "stream",
          "text": [
            "[['image_0413.jpg' '32']\n",
            " ['image_0022.jpg' '47']\n",
            " ['image_0639.jpg' '45']\n",
            " ...\n",
            " ['image_0613.jpg' '70']\n",
            " ['image_1375.jpg' '100']\n",
            " ['image_0480.jpg' '8']]\n"
          ],
          "name": "stdout"
        }
      ]
    },
    {
      "cell_type": "markdown",
      "metadata": {
        "id": "lRZcNem9Qg8s",
        "colab_type": "text"
      },
      "source": [
        "##결과 파일로 저장하여 Kaggle 제출 준비"
      ]
    },
    {
      "cell_type": "code",
      "metadata": {
        "id": "WafvPZXWQMRQ",
        "colab_type": "code",
        "colab": {}
      },
      "source": [
        "df = pd.DataFrame(result, columns=['id','Category'])\n",
        "df.to_csv('result-jhhwang.csv', index=False, header=True)"
      ],
      "execution_count": 0,
      "outputs": []
    },
    {
      "cell_type": "code",
      "metadata": {
        "id": "TVWD2Ho7TPok",
        "colab_type": "code",
        "outputId": "fe3939ff-daee-43ce-bb50-a6b900c98ded",
        "colab": {
          "base_uri": "https://localhost:8080/",
          "height": 53
        }
      },
      "source": [
        "! kaggle competitions submit -c 2019-ml-finalproject -f result-jhhwang.csv -m \"Junghyun Hwang\""
      ],
      "execution_count": 0,
      "outputs": [
        {
          "output_type": "stream",
          "text": [
            "100% 29.6k/29.6k [00:05<00:00, 5.24kB/s]\n",
            "Successfully submitted to 2019.Fall.PatternRecognition "
          ],
          "name": "stdout"
        }
      ]
    }
  ]
}