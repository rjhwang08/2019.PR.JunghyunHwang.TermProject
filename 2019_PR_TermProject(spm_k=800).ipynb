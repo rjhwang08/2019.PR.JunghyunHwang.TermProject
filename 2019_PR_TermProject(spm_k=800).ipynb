{
  "nbformat": 4,
  "nbformat_minor": 0,
  "metadata": {
    "colab": {
      "name": "2019.PR.TermProject(spm_k=800).ipynb",
      "provenance": [],
      "collapsed_sections": [],
      "machine_shape": "hm"
    },
    "kernelspec": {
      "name": "python3",
      "display_name": "Python 3"
    },
    "accelerator": "GPU",
    "widgets": {
      "application/vnd.jupyter.widget-state+json": {
        "d6afe72a6e384b30a8c7d329f3ec157d": {
          "model_module": "@jupyter-widgets/controls",
          "model_name": "HBoxModel",
          "state": {
            "_view_name": "HBoxView",
            "_dom_classes": [],
            "_model_name": "HBoxModel",
            "_view_module": "@jupyter-widgets/controls",
            "_model_module_version": "1.5.0",
            "_view_count": null,
            "_view_module_version": "1.5.0",
            "box_style": "",
            "layout": "IPY_MODEL_054568847f8d46c28edbfc66bf873d19",
            "_model_module": "@jupyter-widgets/controls",
            "children": [
              "IPY_MODEL_cd3d73787d6642539cba7984520b22aa",
              "IPY_MODEL_3972cd0aec02430f8bcfd0741bca0bd1"
            ]
          }
        },
        "054568847f8d46c28edbfc66bf873d19": {
          "model_module": "@jupyter-widgets/base",
          "model_name": "LayoutModel",
          "state": {
            "_view_name": "LayoutView",
            "grid_template_rows": null,
            "right": null,
            "justify_content": null,
            "_view_module": "@jupyter-widgets/base",
            "overflow": null,
            "_model_module_version": "1.2.0",
            "_view_count": null,
            "flex_flow": null,
            "width": null,
            "min_width": null,
            "border": null,
            "align_items": null,
            "bottom": null,
            "_model_module": "@jupyter-widgets/base",
            "top": null,
            "grid_column": null,
            "overflow_y": null,
            "overflow_x": null,
            "grid_auto_flow": null,
            "grid_area": null,
            "grid_template_columns": null,
            "flex": null,
            "_model_name": "LayoutModel",
            "justify_items": null,
            "grid_row": null,
            "max_height": null,
            "align_content": null,
            "visibility": null,
            "align_self": null,
            "height": null,
            "min_height": null,
            "padding": null,
            "grid_auto_rows": null,
            "grid_gap": null,
            "max_width": null,
            "order": null,
            "_view_module_version": "1.2.0",
            "grid_template_areas": null,
            "object_position": null,
            "object_fit": null,
            "grid_auto_columns": null,
            "margin": null,
            "display": null,
            "left": null
          }
        },
        "cd3d73787d6642539cba7984520b22aa": {
          "model_module": "@jupyter-widgets/controls",
          "model_name": "IntProgressModel",
          "state": {
            "_view_name": "ProgressView",
            "style": "IPY_MODEL_d290182642b3484d96ef7fb206f7e29c",
            "_dom_classes": [],
            "description": "",
            "_model_name": "IntProgressModel",
            "bar_style": "success",
            "max": 102,
            "_view_module": "@jupyter-widgets/controls",
            "_model_module_version": "1.5.0",
            "value": 102,
            "_view_count": null,
            "_view_module_version": "1.5.0",
            "orientation": "horizontal",
            "min": 0,
            "description_tooltip": null,
            "_model_module": "@jupyter-widgets/controls",
            "layout": "IPY_MODEL_073226ea7f65456b80a38666f86e9702"
          }
        },
        "3972cd0aec02430f8bcfd0741bca0bd1": {
          "model_module": "@jupyter-widgets/controls",
          "model_name": "HTMLModel",
          "state": {
            "_view_name": "HTMLView",
            "style": "IPY_MODEL_cd11f16ea92c4b3488565dca0415c625",
            "_dom_classes": [],
            "description": "",
            "_model_name": "HTMLModel",
            "placeholder": "​",
            "_view_module": "@jupyter-widgets/controls",
            "_model_module_version": "1.5.0",
            "value": "100% 102/102 [02:41&lt;00:00,  1.59s/it]",
            "_view_count": null,
            "_view_module_version": "1.5.0",
            "description_tooltip": null,
            "_model_module": "@jupyter-widgets/controls",
            "layout": "IPY_MODEL_1cb796d2f60d41af8634411be8622fcc"
          }
        },
        "d290182642b3484d96ef7fb206f7e29c": {
          "model_module": "@jupyter-widgets/controls",
          "model_name": "ProgressStyleModel",
          "state": {
            "_view_name": "StyleView",
            "_model_name": "ProgressStyleModel",
            "description_width": "",
            "_view_module": "@jupyter-widgets/base",
            "_model_module_version": "1.5.0",
            "_view_count": null,
            "_view_module_version": "1.2.0",
            "bar_color": null,
            "_model_module": "@jupyter-widgets/controls"
          }
        },
        "073226ea7f65456b80a38666f86e9702": {
          "model_module": "@jupyter-widgets/base",
          "model_name": "LayoutModel",
          "state": {
            "_view_name": "LayoutView",
            "grid_template_rows": null,
            "right": null,
            "justify_content": null,
            "_view_module": "@jupyter-widgets/base",
            "overflow": null,
            "_model_module_version": "1.2.0",
            "_view_count": null,
            "flex_flow": null,
            "width": null,
            "min_width": null,
            "border": null,
            "align_items": null,
            "bottom": null,
            "_model_module": "@jupyter-widgets/base",
            "top": null,
            "grid_column": null,
            "overflow_y": null,
            "overflow_x": null,
            "grid_auto_flow": null,
            "grid_area": null,
            "grid_template_columns": null,
            "flex": null,
            "_model_name": "LayoutModel",
            "justify_items": null,
            "grid_row": null,
            "max_height": null,
            "align_content": null,
            "visibility": null,
            "align_self": null,
            "height": null,
            "min_height": null,
            "padding": null,
            "grid_auto_rows": null,
            "grid_gap": null,
            "max_width": null,
            "order": null,
            "_view_module_version": "1.2.0",
            "grid_template_areas": null,
            "object_position": null,
            "object_fit": null,
            "grid_auto_columns": null,
            "margin": null,
            "display": null,
            "left": null
          }
        },
        "cd11f16ea92c4b3488565dca0415c625": {
          "model_module": "@jupyter-widgets/controls",
          "model_name": "DescriptionStyleModel",
          "state": {
            "_view_name": "StyleView",
            "_model_name": "DescriptionStyleModel",
            "description_width": "",
            "_view_module": "@jupyter-widgets/base",
            "_model_module_version": "1.5.0",
            "_view_count": null,
            "_view_module_version": "1.2.0",
            "_model_module": "@jupyter-widgets/controls"
          }
        },
        "1cb796d2f60d41af8634411be8622fcc": {
          "model_module": "@jupyter-widgets/base",
          "model_name": "LayoutModel",
          "state": {
            "_view_name": "LayoutView",
            "grid_template_rows": null,
            "right": null,
            "justify_content": null,
            "_view_module": "@jupyter-widgets/base",
            "overflow": null,
            "_model_module_version": "1.2.0",
            "_view_count": null,
            "flex_flow": null,
            "width": null,
            "min_width": null,
            "border": null,
            "align_items": null,
            "bottom": null,
            "_model_module": "@jupyter-widgets/base",
            "top": null,
            "grid_column": null,
            "overflow_y": null,
            "overflow_x": null,
            "grid_auto_flow": null,
            "grid_area": null,
            "grid_template_columns": null,
            "flex": null,
            "_model_name": "LayoutModel",
            "justify_items": null,
            "grid_row": null,
            "max_height": null,
            "align_content": null,
            "visibility": null,
            "align_self": null,
            "height": null,
            "min_height": null,
            "padding": null,
            "grid_auto_rows": null,
            "grid_gap": null,
            "max_width": null,
            "order": null,
            "_view_module_version": "1.2.0",
            "grid_template_areas": null,
            "object_position": null,
            "object_fit": null,
            "grid_auto_columns": null,
            "margin": null,
            "display": null,
            "left": null
          }
        },
        "62d8d84f080549e0bf409ce17ae1af09": {
          "model_module": "@jupyter-widgets/controls",
          "model_name": "HBoxModel",
          "state": {
            "_view_name": "HBoxView",
            "_dom_classes": [],
            "_model_name": "HBoxModel",
            "_view_module": "@jupyter-widgets/controls",
            "_model_module_version": "1.5.0",
            "_view_count": null,
            "_view_module_version": "1.5.0",
            "box_style": "",
            "layout": "IPY_MODEL_85b65605e8ae493ab6fbdffdbd6f01f6",
            "_model_module": "@jupyter-widgets/controls",
            "children": [
              "IPY_MODEL_d22b33c27f3746df8d10d7dbb8bfe0e0",
              "IPY_MODEL_4c64f5c6b9aa4ef3be51c080b29751d5"
            ]
          }
        },
        "85b65605e8ae493ab6fbdffdbd6f01f6": {
          "model_module": "@jupyter-widgets/base",
          "model_name": "LayoutModel",
          "state": {
            "_view_name": "LayoutView",
            "grid_template_rows": null,
            "right": null,
            "justify_content": null,
            "_view_module": "@jupyter-widgets/base",
            "overflow": null,
            "_model_module_version": "1.2.0",
            "_view_count": null,
            "flex_flow": null,
            "width": null,
            "min_width": null,
            "border": null,
            "align_items": null,
            "bottom": null,
            "_model_module": "@jupyter-widgets/base",
            "top": null,
            "grid_column": null,
            "overflow_y": null,
            "overflow_x": null,
            "grid_auto_flow": null,
            "grid_area": null,
            "grid_template_columns": null,
            "flex": null,
            "_model_name": "LayoutModel",
            "justify_items": null,
            "grid_row": null,
            "max_height": null,
            "align_content": null,
            "visibility": null,
            "align_self": null,
            "height": null,
            "min_height": null,
            "padding": null,
            "grid_auto_rows": null,
            "grid_gap": null,
            "max_width": null,
            "order": null,
            "_view_module_version": "1.2.0",
            "grid_template_areas": null,
            "object_position": null,
            "object_fit": null,
            "grid_auto_columns": null,
            "margin": null,
            "display": null,
            "left": null
          }
        },
        "d22b33c27f3746df8d10d7dbb8bfe0e0": {
          "model_module": "@jupyter-widgets/controls",
          "model_name": "IntProgressModel",
          "state": {
            "_view_name": "ProgressView",
            "style": "IPY_MODEL_fb971f6a667e4012878a1340015648b7",
            "_dom_classes": [],
            "description": "",
            "_model_name": "IntProgressModel",
            "bar_style": "success",
            "max": 1692,
            "_view_module": "@jupyter-widgets/controls",
            "_model_module_version": "1.5.0",
            "value": 1692,
            "_view_count": null,
            "_view_module_version": "1.5.0",
            "orientation": "horizontal",
            "min": 0,
            "description_tooltip": null,
            "_model_module": "@jupyter-widgets/controls",
            "layout": "IPY_MODEL_29e7cd9d752f4cb494f25923586df8d1"
          }
        },
        "4c64f5c6b9aa4ef3be51c080b29751d5": {
          "model_module": "@jupyter-widgets/controls",
          "model_name": "HTMLModel",
          "state": {
            "_view_name": "HTMLView",
            "style": "IPY_MODEL_98d89e4e67264ee88ba32fc1f3fa802d",
            "_dom_classes": [],
            "description": "",
            "_model_name": "HTMLModel",
            "placeholder": "​",
            "_view_module": "@jupyter-widgets/controls",
            "_model_module_version": "1.5.0",
            "value": "100% 1692/1692 [01:32&lt;00:00, 18.15it/s]",
            "_view_count": null,
            "_view_module_version": "1.5.0",
            "description_tooltip": null,
            "_model_module": "@jupyter-widgets/controls",
            "layout": "IPY_MODEL_7b8e61282eb541ca935adb75e752aafe"
          }
        },
        "fb971f6a667e4012878a1340015648b7": {
          "model_module": "@jupyter-widgets/controls",
          "model_name": "ProgressStyleModel",
          "state": {
            "_view_name": "StyleView",
            "_model_name": "ProgressStyleModel",
            "description_width": "",
            "_view_module": "@jupyter-widgets/base",
            "_model_module_version": "1.5.0",
            "_view_count": null,
            "_view_module_version": "1.2.0",
            "bar_color": null,
            "_model_module": "@jupyter-widgets/controls"
          }
        },
        "29e7cd9d752f4cb494f25923586df8d1": {
          "model_module": "@jupyter-widgets/base",
          "model_name": "LayoutModel",
          "state": {
            "_view_name": "LayoutView",
            "grid_template_rows": null,
            "right": null,
            "justify_content": null,
            "_view_module": "@jupyter-widgets/base",
            "overflow": null,
            "_model_module_version": "1.2.0",
            "_view_count": null,
            "flex_flow": null,
            "width": null,
            "min_width": null,
            "border": null,
            "align_items": null,
            "bottom": null,
            "_model_module": "@jupyter-widgets/base",
            "top": null,
            "grid_column": null,
            "overflow_y": null,
            "overflow_x": null,
            "grid_auto_flow": null,
            "grid_area": null,
            "grid_template_columns": null,
            "flex": null,
            "_model_name": "LayoutModel",
            "justify_items": null,
            "grid_row": null,
            "max_height": null,
            "align_content": null,
            "visibility": null,
            "align_self": null,
            "height": null,
            "min_height": null,
            "padding": null,
            "grid_auto_rows": null,
            "grid_gap": null,
            "max_width": null,
            "order": null,
            "_view_module_version": "1.2.0",
            "grid_template_areas": null,
            "object_position": null,
            "object_fit": null,
            "grid_auto_columns": null,
            "margin": null,
            "display": null,
            "left": null
          }
        },
        "98d89e4e67264ee88ba32fc1f3fa802d": {
          "model_module": "@jupyter-widgets/controls",
          "model_name": "DescriptionStyleModel",
          "state": {
            "_view_name": "StyleView",
            "_model_name": "DescriptionStyleModel",
            "description_width": "",
            "_view_module": "@jupyter-widgets/base",
            "_model_module_version": "1.5.0",
            "_view_count": null,
            "_view_module_version": "1.2.0",
            "_model_module": "@jupyter-widgets/controls"
          }
        },
        "7b8e61282eb541ca935adb75e752aafe": {
          "model_module": "@jupyter-widgets/base",
          "model_name": "LayoutModel",
          "state": {
            "_view_name": "LayoutView",
            "grid_template_rows": null,
            "right": null,
            "justify_content": null,
            "_view_module": "@jupyter-widgets/base",
            "overflow": null,
            "_model_module_version": "1.2.0",
            "_view_count": null,
            "flex_flow": null,
            "width": null,
            "min_width": null,
            "border": null,
            "align_items": null,
            "bottom": null,
            "_model_module": "@jupyter-widgets/base",
            "top": null,
            "grid_column": null,
            "overflow_y": null,
            "overflow_x": null,
            "grid_auto_flow": null,
            "grid_area": null,
            "grid_template_columns": null,
            "flex": null,
            "_model_name": "LayoutModel",
            "justify_items": null,
            "grid_row": null,
            "max_height": null,
            "align_content": null,
            "visibility": null,
            "align_self": null,
            "height": null,
            "min_height": null,
            "padding": null,
            "grid_auto_rows": null,
            "grid_gap": null,
            "max_width": null,
            "order": null,
            "_view_module_version": "1.2.0",
            "grid_template_areas": null,
            "object_position": null,
            "object_fit": null,
            "grid_auto_columns": null,
            "margin": null,
            "display": null,
            "left": null
          }
        }
      }
    }
  },
  "cells": [
    {
      "cell_type": "markdown",
      "metadata": {
        "id": "htqAwvGAI3B8",
        "colab_type": "text"
      },
      "source": [
        "## 캐글 사용을 위한 설정"
      ]
    },
    {
      "cell_type": "code",
      "metadata": {
        "id": "HgODo_5AI3Wb",
        "colab_type": "code",
        "outputId": "21a0ff7f-0b48-422c-c39f-13da54fbf730",
        "colab": {
          "base_uri": "https://localhost:8080/",
          "height": 449
        }
      },
      "source": [
        "# 캐글 API 버전 갱신을 위한 작업... 반드시 버전이 1.5.6 이어야 함\n",
        "\n",
        "!ls -lha kaggle.json\n",
        "\n",
        "!pip uninstall -y kaggle\n",
        "!pip install --upgrade pip\n",
        "!pip install kaggle==1.5.6"
      ],
      "execution_count": 0,
      "outputs": [
        {
          "output_type": "stream",
          "text": [
            "-rw-r--r-- 1 root root 69 Dec 14 10:51 kaggle.json\n",
            "Uninstalling kaggle-1.5.6:\n",
            "  Successfully uninstalled kaggle-1.5.6\n",
            "Requirement already up-to-date: pip in /usr/local/lib/python3.6/dist-packages (19.3.1)\n",
            "Collecting kaggle==1.5.6\n",
            "\u001b[?25l  Downloading https://files.pythonhosted.org/packages/62/ab/bb20f9b9e24f9a6250f95a432f8d9a7d745f8d24039d7a5a6eaadb7783ba/kaggle-1.5.6.tar.gz (58kB)\n",
            "\u001b[K     |████████████████████████████████| 61kB 1.9MB/s \n",
            "\u001b[?25hRequirement already satisfied: urllib3<1.25,>=1.21.1 in /usr/local/lib/python3.6/dist-packages (from kaggle==1.5.6) (1.24.3)\n",
            "Requirement already satisfied: six>=1.10 in /usr/local/lib/python3.6/dist-packages (from kaggle==1.5.6) (1.12.0)\n",
            "Requirement already satisfied: certifi in /usr/local/lib/python3.6/dist-packages (from kaggle==1.5.6) (2019.11.28)\n",
            "Requirement already satisfied: python-dateutil in /usr/local/lib/python3.6/dist-packages (from kaggle==1.5.6) (2.6.1)\n",
            "Requirement already satisfied: requests in /usr/local/lib/python3.6/dist-packages (from kaggle==1.5.6) (2.21.0)\n",
            "Requirement already satisfied: tqdm in /usr/local/lib/python3.6/dist-packages (from kaggle==1.5.6) (4.28.1)\n",
            "Requirement already satisfied: python-slugify in /usr/local/lib/python3.6/dist-packages (from kaggle==1.5.6) (4.0.0)\n",
            "Requirement already satisfied: chardet<3.1.0,>=3.0.2 in /usr/local/lib/python3.6/dist-packages (from requests->kaggle==1.5.6) (3.0.4)\n",
            "Requirement already satisfied: idna<2.9,>=2.5 in /usr/local/lib/python3.6/dist-packages (from requests->kaggle==1.5.6) (2.8)\n",
            "Requirement already satisfied: text-unidecode>=1.3 in /usr/local/lib/python3.6/dist-packages (from python-slugify->kaggle==1.5.6) (1.3)\n",
            "Building wheels for collected packages: kaggle\n",
            "  Building wheel for kaggle (setup.py) ... \u001b[?25l\u001b[?25hdone\n",
            "  Created wheel for kaggle: filename=kaggle-1.5.6-cp36-none-any.whl size=72859 sha256=6679880b9d1fc4fb5cbdb54b06e5ef8c6dbb1945216efbf7a158b2fb4672458c\n",
            "  Stored in directory: /root/.cache/pip/wheels/57/4e/e8/bb28d035162fb8f17f8ca5d42c3230e284c6aa565b42b72674\n",
            "Successfully built kaggle\n",
            "Installing collected packages: kaggle\n",
            "Successfully installed kaggle-1.5.6\n"
          ],
          "name": "stdout"
        }
      ]
    },
    {
      "cell_type": "code",
      "metadata": {
        "id": "t85fRP29I9Q8",
        "colab_type": "code",
        "outputId": "0a4d9b5f-a754-4461-f939-5e2a89124275",
        "colab": {
          "base_uri": "https://localhost:8080/",
          "height": 35
        }
      },
      "source": [
        "# 캐글연동을 위한 토큰 입력\n",
        "! mkdir -p ~/.kaggle\n",
        "! cp kaggle.json ~/.kaggle/\n",
        "! chmod 600 ~/.kaggle/kaggle.json\n",
        "\n",
        "\n",
        "# 버전이 1.5.6 이 아니면, 진행할 수 없다\n",
        "! kaggle -v"
      ],
      "execution_count": 0,
      "outputs": [
        {
          "output_type": "stream",
          "text": [
            "Kaggle API 1.5.6\n"
          ],
          "name": "stdout"
        }
      ]
    },
    {
      "cell_type": "markdown",
      "metadata": {
        "id": "ysm39wDdI_XM",
        "colab_type": "text"
      },
      "source": [
        "## 데이터 셋 다운로드 후 압축 풀기"
      ]
    },
    {
      "cell_type": "code",
      "metadata": {
        "id": "0jTFMKcRI9yT",
        "colab_type": "code",
        "outputId": "e5720189-4d91-4474-be3b-ff137c952e0f",
        "colab": {
          "base_uri": "https://localhost:8080/",
          "height": 71
        }
      },
      "source": [
        "! kaggle competitions download -c 2019-ml-finalproject\n",
        "\n",
        "import zipfile\n",
        "import os\n",
        "\n",
        "os.mkdir('/content/input2')"
      ],
      "execution_count": 0,
      "outputs": [
        {
          "output_type": "stream",
          "text": [
            "Downloading 2019-ml-finalproject.zip to /content\n",
            "\r  0% 0.00/65.0M [00:00<?, ?B/s]\r 14% 9.00M/65.0M [00:00<00:00, 91.2MB/s]\r 65% 42.0M/65.0M [00:00<00:00, 117MB/s] \n",
            "\r100% 65.0M/65.0M [00:00<00:00, 244MB/s]\n"
          ],
          "name": "stdout"
        }
      ]
    },
    {
      "cell_type": "code",
      "metadata": {
        "id": "KZmsiXlFJBSD",
        "colab_type": "code",
        "colab": {}
      },
      "source": [
        "zip_ref = zipfile.ZipFile(\"/content/2019-ml-finalproject.zip\", 'r')\n",
        "zip_ref.extractall(\"/content/input2\")\n",
        "zip_ref.close()"
      ],
      "execution_count": 0,
      "outputs": []
    },
    {
      "cell_type": "markdown",
      "metadata": {
        "id": "Z6x66fKDJHac",
        "colab_type": "text"
      },
      "source": [
        "## SIFT 사용을 위한 설정"
      ]
    },
    {
      "cell_type": "code",
      "metadata": {
        "id": "Rfa-FIB8JC7c",
        "colab_type": "code",
        "outputId": "ed956949-9693-48c0-ea50-5de6906f6e1f",
        "colab": {
          "base_uri": "https://localhost:8080/",
          "height": 413
        }
      },
      "source": [
        "! yes | pip3 uninstall opencv-python\n",
        "! yes | pip3 uninstall opencv-contrib-python\n",
        "! yes | pip3 install opencv-python==3.4.2.16\n",
        "! yes | pip3 install opencv-contrib-python==3.4.2.16"
      ],
      "execution_count": 0,
      "outputs": [
        {
          "output_type": "stream",
          "text": [
            "Uninstalling opencv-python-4.1.2.30:\n",
            "  Would remove:\n",
            "    /usr/local/lib/python3.6/dist-packages/cv2/*\n",
            "    /usr/local/lib/python3.6/dist-packages/opencv_python-4.1.2.30.dist-info/*\n",
            "Proceed (y/n)?   Successfully uninstalled opencv-python-4.1.2.30\n",
            "Uninstalling opencv-contrib-python-4.1.2.30:\n",
            "  Would remove:\n",
            "    /usr/local/lib/python3.6/dist-packages/opencv_contrib_python-4.1.2.30.dist-info/*\n",
            "Proceed (y/n)?   Successfully uninstalled opencv-contrib-python-4.1.2.30\n",
            "Collecting opencv-python==3.4.2.16\n",
            "\u001b[?25l  Downloading https://files.pythonhosted.org/packages/fa/7d/5042b668a8ed41d2a80b8c172f5efcd572e3c046c75ae029407e19b7fc68/opencv_python-3.4.2.16-cp36-cp36m-manylinux1_x86_64.whl (25.0MB)\n",
            "\u001b[K     |████████████████████████████████| 25.0MB 380kB/s \n",
            "\u001b[?25hRequirement already satisfied: numpy>=1.11.3 in /usr/local/lib/python3.6/dist-packages (from opencv-python==3.4.2.16) (1.17.4)\n",
            "\u001b[31mERROR: albumentations 0.1.12 has requirement imgaug<0.2.7,>=0.2.5, but you'll have imgaug 0.2.9 which is incompatible.\u001b[0m\n",
            "Installing collected packages: opencv-python\n",
            "Successfully installed opencv-python-3.4.2.16\n",
            "Collecting opencv-contrib-python==3.4.2.16\n",
            "\u001b[?25l  Downloading https://files.pythonhosted.org/packages/08/f1/66330f4042c4fb3b2d77a159db8e8916d9cdecc29bc8c1f56bc7f8a9bec9/opencv_contrib_python-3.4.2.16-cp36-cp36m-manylinux1_x86_64.whl (30.6MB)\n",
            "\u001b[K     |████████████████████████████████| 30.6MB 9.1MB/s \n",
            "\u001b[?25hRequirement already satisfied: numpy>=1.11.3 in /usr/local/lib/python3.6/dist-packages (from opencv-contrib-python==3.4.2.16) (1.17.4)\n",
            "Installing collected packages: opencv-contrib-python\n",
            "Successfully installed opencv-contrib-python-3.4.2.16\n"
          ],
          "name": "stdout"
        }
      ]
    },
    {
      "cell_type": "markdown",
      "metadata": {
        "id": "OESPCYBjJODt",
        "colab_type": "text"
      },
      "source": [
        "## 라이브러리 로드"
      ]
    },
    {
      "cell_type": "code",
      "metadata": {
        "id": "koT4g50YJNW-",
        "colab_type": "code",
        "colab": {}
      },
      "source": [
        "from imutils import paths\n",
        "import numpy as np\n",
        "import imutils \n",
        "import cv2 \n",
        "import os\n",
        "import pandas as pd\n",
        "from tqdm import tqdm_notebook\n",
        "\n",
        "from sklearn.cluster import KMeans\n",
        "from sklearn.svm import SVC\n",
        "from sklearn.model_selection import train_test_split\n",
        "from sklearn.decomposition import PCA\n",
        "from sklearn.model_selection import GridSearchCV\n",
        "from sklearn.pipeline import make_pipeline\n",
        "\n",
        "from scipy.cluster.vq import *\n",
        "import math"
      ],
      "execution_count": 0,
      "outputs": []
    },
    {
      "cell_type": "markdown",
      "metadata": {
        "id": "GNFZOFk0JYGD",
        "colab_type": "text"
      },
      "source": [
        "## 학습 데이터 준비"
      ]
    },
    {
      "cell_type": "code",
      "metadata": {
        "id": "BGW4XSBIJP2z",
        "colab_type": "code",
        "colab": {}
      },
      "source": [
        "df_train = pd.read_csv(\"/content/input2/Label2Names.csv\", header=None)"
      ],
      "execution_count": 0,
      "outputs": []
    },
    {
      "cell_type": "markdown",
      "metadata": {
        "id": "E11UENwEJfV1",
        "colab_type": "text"
      },
      "source": [
        "## SIFT를 이용하여 feature 검출"
      ]
    },
    {
      "cell_type": "code",
      "metadata": {
        "id": "j8hfTf3GJc20",
        "colab_type": "code",
        "colab": {}
      },
      "source": [
        "def dense_sift_each(img_gray):\n",
        "  sift = cv2.xfeatures2d.SIFT_create()\n",
        "\n",
        "  keypoints = []\n",
        "  w, h = np.array(img_gray).shape\n",
        "\n",
        "  for i in range(4, h, 8): # 4에서 h까지 8 step씩\n",
        "    for j in range(4, w, 8):\n",
        "      keypoints.append(cv2.KeyPoint(i, j, 8))\n",
        "  kp, des = sift.compute(img_gray, keypoints)\n",
        "\n",
        "  return kp, des"
      ],
      "execution_count": 0,
      "outputs": []
    },
    {
      "cell_type": "code",
      "metadata": {
        "id": "3OZVQHxBJqK2",
        "colab_type": "code",
        "outputId": "ea6f8693-0431-47bf-e47d-d2f046015652",
        "colab": {
          "base_uri": "https://localhost:8080/",
          "height": 67,
          "referenced_widgets": [
            "d6afe72a6e384b30a8c7d329f3ec157d",
            "054568847f8d46c28edbfc66bf873d19",
            "cd3d73787d6642539cba7984520b22aa",
            "3972cd0aec02430f8bcfd0741bca0bd1",
            "d290182642b3484d96ef7fb206f7e29c",
            "073226ea7f65456b80a38666f86e9702",
            "cd11f16ea92c4b3488565dca0415c625",
            "1cb796d2f60d41af8634411be8622fcc"
          ]
        }
      },
      "source": [
        "data_root_train = \"/content/input2/train/\"\n",
        "\n",
        "train_images = []\n",
        "labels = []\n",
        "des_list = []\n",
        "            \n",
        "# sift 선언\n",
        "sift = cv2.xfeatures2d.SIFT_create()\n",
        "\n",
        "for i in tqdm_notebook(os.listdir(data_root_train)):\n",
        "  img_cls_path = data_root_train + i + \"/\"  # 이미지 클래스 path\n",
        "  img_path = [img_cls_path + j for j in os.listdir(img_cls_path)]  # 각 클래스 내의 학습이미지 path\n",
        "\n",
        "  if i == \"BACKGROUND_Google\":       # Label2Names.csv에 빠져있는 카테고리 label 지정\n",
        "    label = 0\n",
        "  else:\n",
        "    label = (df_train.index[df_train[1]==i] + 1).tolist()[0]  # 나머지 label 지정\n",
        "\n",
        "  for img in img_path:\n",
        "    image = cv2.imread(img)\n",
        "    image = cv2.resize(image, (256,256))\n",
        "    image_gray = cv2.cvtColor(image, cv2.COLOR_BGR2GRAY)\n",
        "    train_images.append(image_gray)\n",
        "\n",
        "    kp, des = dense_sift_each(image_gray)\n",
        "    des_list.append(des)\n",
        "    labels.append(label)"
      ],
      "execution_count": 0,
      "outputs": [
        {
          "output_type": "display_data",
          "data": {
            "application/vnd.jupyter.widget-view+json": {
              "model_id": "d6afe72a6e384b30a8c7d329f3ec157d",
              "version_minor": 0,
              "version_major": 2
            },
            "text/plain": [
              "HBox(children=(IntProgress(value=0, max=102), HTML(value='')))"
            ]
          },
          "metadata": {
            "tags": []
          }
        },
        {
          "output_type": "stream",
          "text": [
            "\n"
          ],
          "name": "stdout"
        }
      ]
    },
    {
      "cell_type": "code",
      "metadata": {
        "id": "TNGn_q4SKVo1",
        "colab_type": "code",
        "outputId": "6840c8f9-4326-49b2-da68-05e60aea143f",
        "colab": {
          "base_uri": "https://localhost:8080/",
          "height": 91
        }
      },
      "source": [
        "des_tot = np.vstack((descriptor for descriptor in des_list))\n",
        "des_tot.shape"
      ],
      "execution_count": 0,
      "outputs": [
        {
          "output_type": "stream",
          "text": [
            "/usr/local/lib/python3.6/dist-packages/ipykernel_launcher.py:1: FutureWarning: arrays to stack must be passed as a \"sequence\" type such as list or tuple. Support for non-sequence iterables such as generators is deprecated as of NumPy 1.16 and will raise an error in the future.\n",
            "  \"\"\"Entry point for launching an IPython kernel.\n"
          ],
          "name": "stderr"
        },
        {
          "output_type": "execute_result",
          "data": {
            "text/plain": [
              "(3133440, 128)"
            ]
          },
          "metadata": {
            "tags": []
          },
          "execution_count": 45
        }
      ]
    },
    {
      "cell_type": "markdown",
      "metadata": {
        "id": "yMZTHXL4KZhW",
        "colab_type": "text"
      },
      "source": [
        "## K-Means Clustering을 이용하여 Code Book 만들기"
      ]
    },
    {
      "cell_type": "code",
      "metadata": {
        "id": "3rhjVlet3Su5",
        "colab_type": "code",
        "outputId": "a2fc0696-e8d9-45c0-ff6a-4c69242f884a",
        "colab": {
          "base_uri": "https://localhost:8080/",
          "height": 323
        }
      },
      "source": [
        "pip install kmc2"
      ],
      "execution_count": 0,
      "outputs": [
        {
          "output_type": "stream",
          "text": [
            "Collecting kmc2\n",
            "\u001b[?25l  Downloading https://files.pythonhosted.org/packages/b6/a2/42b2dd4fa0c425912c03222dd443f1d6aceed410a29467d1e5d8989c72f1/kmc2-0.1.tar.gz (102kB)\n",
            "\u001b[K     |████████████████████████████████| 102kB 2.4MB/s \n",
            "\u001b[?25hRequirement already satisfied: numpy in /usr/local/lib/python3.6/dist-packages (from kmc2) (1.17.4)\n",
            "Requirement already satisfied: scipy in /usr/local/lib/python3.6/dist-packages (from kmc2) (1.3.3)\n",
            "Requirement already satisfied: scikit-learn in /usr/local/lib/python3.6/dist-packages (from kmc2) (0.21.3)\n",
            "Collecting nose\n",
            "\u001b[?25l  Downloading https://files.pythonhosted.org/packages/15/d8/dd071918c040f50fa1cf80da16423af51ff8ce4a0f2399b7bf8de45ac3d9/nose-1.3.7-py3-none-any.whl (154kB)\n",
            "\u001b[K     |████████████████████████████████| 163kB 9.4MB/s \n",
            "\u001b[?25hRequirement already satisfied: joblib>=0.11 in /usr/local/lib/python3.6/dist-packages (from scikit-learn->kmc2) (0.14.1)\n",
            "Building wheels for collected packages: kmc2\n",
            "  Building wheel for kmc2 (setup.py) ... \u001b[?25l\u001b[?25hdone\n",
            "  Created wheel for kmc2: filename=kmc2-0.1-cp36-cp36m-linux_x86_64.whl size=252221 sha256=51094fe35c219801a3e53f73e8f9308d8d494970a172cd101dcecb4713fb67b8\n",
            "  Stored in directory: /root/.cache/pip/wheels/5c/ba/f0/4c8b421be72d4f2d1a93233c2f6f591e7d8b0bda05a1f4616f\n",
            "Successfully built kmc2\n",
            "Installing collected packages: nose, kmc2\n",
            "Successfully installed kmc2-0.1 nose-1.3.7\n"
          ],
          "name": "stdout"
        }
      ]
    },
    {
      "cell_type": "code",
      "metadata": {
        "id": "vg81GjeUEqQb",
        "colab_type": "code",
        "colab": {}
      },
      "source": [
        "import kmc2\n",
        "from sklearn.cluster import MiniBatchKMeans\n",
        "\n",
        "codebooksize = 800"
      ],
      "execution_count": 0,
      "outputs": []
    },
    {
      "cell_type": "code",
      "metadata": {
        "id": "7u0E8OGcEl48",
        "colab_type": "code",
        "outputId": "a1ace0a4-643f-4571-d9c6-e7c9c7ad746b",
        "colab": {
          "base_uri": "https://localhost:8080/",
          "height": 89
        }
      },
      "source": [
        "seeding = kmc2.kmc2(np.array(des_tot).reshape(-1,128), codebooksize)\n",
        "Kmeas = MiniBatchKMeans(codebooksize, init=seeding).fit(np.array(des_tot).reshape(-1,128))"
      ],
      "execution_count": 0,
      "outputs": [
        {
          "output_type": "stream",
          "text": [
            "/usr/local/lib/python3.6/dist-packages/ipykernel_launcher.py:2: RuntimeWarning: Explicit initial center position passed: performing only one init in MiniBatchKMeans instead of n_init=3\n",
            "  \n",
            "/usr/local/lib/python3.6/dist-packages/sklearn/cluster/k_means_.py:1561: RuntimeWarning: init_size=300 should be larger than k=800. Setting it to 3*k\n",
            "  init_size=init_size)\n"
          ],
          "name": "stderr"
        }
      ]
    },
    {
      "cell_type": "code",
      "metadata": {
        "id": "4q-JEybK7Anq",
        "colab_type": "code",
        "outputId": "0a134480-fc3f-4725-b411-54921272b9dc",
        "colab": {
          "base_uri": "https://localhost:8080/",
          "height": 161
        }
      },
      "source": [
        "codeBook = Kmeas.cluster_centers_\n",
        "print(codeBook.shape)\n",
        "print(codeBook)"
      ],
      "execution_count": 0,
      "outputs": [
        {
          "output_type": "stream",
          "text": [
            "(800, 128)\n",
            "[[42.383717  27.399557  19.473911  ... 16.760885  15.018845  29.023542 ]\n",
            " [11.5133295  7.7394185  8.332114  ... 10.82383   10.067164   6.18215  ]\n",
            " [42.374     73.43568   30.665087  ... 14.723938  12.884679  11.253355 ]\n",
            " ...\n",
            " [ 5.684539   4.451108  11.052574  ...  4.006839   6.7660336  6.3543625]\n",
            " [13.766121  36.433434  10.726092  ... 80.79502   20.584322   6.7517285]\n",
            " [ 4.68764    1.7062088  1.6712857 ... 20.414625  25.059593  32.8293   ]]\n"
          ],
          "name": "stdout"
        }
      ]
    },
    {
      "cell_type": "markdown",
      "metadata": {
        "id": "HAgK3Xf5NCO6",
        "colab_type": "text"
      },
      "source": [
        "## Descriptor Pyramid 만들기"
      ]
    },
    {
      "cell_type": "code",
      "metadata": {
        "id": "ZzQGVpXHQT3a",
        "colab_type": "code",
        "colab": {}
      },
      "source": [
        "def input_vector_encoder(des, codeBook):\n",
        "  code, _ = vq(des, codeBook)\n",
        "  code_hist, _ = np.histogram(code, bins=range(codeBook.shape[0]+1))\n",
        "  return code_hist"
      ],
      "execution_count": 0,
      "outputs": []
    },
    {
      "cell_type": "code",
      "metadata": {
        "id": "uLsf0fCwJPYB",
        "colab_type": "code",
        "colab": {}
      },
      "source": [
        "def build_spatial_pyramid(image, descriptor, level):\n",
        "    step_size = 8\n",
        "    height = int(image.shape[0] / step_size)    # 256/8 = 32 : des 개수\n",
        "    width = int(image.shape[1] / step_size)\n",
        "\n",
        "    # descriptor의 인덱스를 표시하기 위함(0~1023을 32*32의 배열로 표현)\n",
        "    idx_crop = np.array(range(len(descriptor))).reshape(height,width)  # descriptor의 길이(개수:32*32)의 범위를 배열로\n",
        "    size = idx_crop.itemsize  # 배열의 각 요소의 바이트 사이즈 -> strides 구하는데 필요\n",
        "\n",
        "    bh, bw = 2**(5-level), 2**(5-level)\n",
        "    shape = (int(height/bh), int(width/bw), bh, bw) # level에 맞춰 이미지를 쪼개기(앞에 두 숫자가 이미지 쪼갠 갯수)\n",
        "    strides = size * np.array([width*bh, bw, width, 1]) # 배열을 탐색 할 때 각 차원에서 단계별로 이동할 바이트 수\n",
        "    \n",
        "    crops = np.lib.stride_tricks.as_strided(idx_crop, shape=shape, strides=strides) # 이미지(여기선 des) 쪼개기\n",
        "\n",
        "    # 각각의 쪼개진 이미지에서 descriptor index를 1차원으로 만듬\n",
        "    des_idxs = [col_block.flatten().tolist() for row_block in crops for col_block in row_block]\n",
        "\n",
        "    # 위에 인덱스를 이용하여 \n",
        "    pyramid = []\n",
        "    for idxs in des_idxs:\n",
        "        pyramid.append(np.asarray([descriptor[idx] for idx in idxs]))   \n",
        "    return pyramid"
      ],
      "execution_count": 0,
      "outputs": []
    },
    {
      "cell_type": "code",
      "metadata": {
        "id": "oQP1d-raSIyx",
        "colab_type": "code",
        "colab": {}
      },
      "source": [
        "def spatial_pyramid_matching(image, descriptor, codebook, level):\n",
        "    pyramid = []\n",
        "    if level == 0:\n",
        "        pyramid += build_spatial_pyramid(image, descriptor, level=0)\n",
        "\n",
        "        code = [input_vector_encoder(crop, codebook) for crop in pyramid]\n",
        "\n",
        "        return np.asarray(code).flatten()\n",
        "    if level == 1:\n",
        "        pyramid += build_spatial_pyramid(image, descriptor, level=0)\n",
        "        pyramid += build_spatial_pyramid(image, descriptor, level=1)\n",
        "\n",
        "        code = [input_vector_encoder(crop, codebook) for crop in pyramid]\n",
        "        code_level_0 = 0.5 * np.asarray(code[0]).flatten()\n",
        "        code_level_1 = 0.5 * np.asarray(code[1:]).flatten()\n",
        "\n",
        "        return np.concatenate((code_level_0, code_level_1))\n",
        "    if level == 2:\n",
        "        pyramid += build_spatial_pyramid(image, descriptor, level=0)\n",
        "        pyramid += build_spatial_pyramid(image, descriptor, level=1)\n",
        "        pyramid += build_spatial_pyramid(image, descriptor, level=2)\n",
        "\n",
        "        code = [input_vector_encoder(crop, codebook) for crop in pyramid]\n",
        "        code_level_0 = 0.25 * np.asarray(code[0]).flatten()\n",
        "        code_level_1 = 0.25 * np.asarray(code[1:5]).flatten()\n",
        "        code_level_2 = 0.5 * np.asarray(code[5:]).flatten()\n",
        "        \n",
        "        return np.concatenate((code_level_0, code_level_1, code_level_2))"
      ],
      "execution_count": 0,
      "outputs": []
    },
    {
      "cell_type": "markdown",
      "metadata": {
        "id": "U8-Qb_vRRSCQ",
        "colab_type": "text"
      },
      "source": [
        "##SPM Kernel(Histogram Intersection)\n",
        "#### 히스토그램 유사도를 측정하는 함수(https://github.com/wihoho/Image-Recognition/blob/5dc8834dd204e36172815345f0abe5640a4a37ef/recognition/classification.py#L10) (SPM 커널 적용하는부분)"
      ]
    },
    {
      "cell_type": "code",
      "metadata": {
        "id": "xGDb8CY5RRln",
        "colab_type": "code",
        "colab": {}
      },
      "source": [
        "def histogramIntersection(M, N):\n",
        "    m = M.shape[0]\n",
        "    n = N.shape[0]\n",
        "    result = np.zeros((m,n))\n",
        "    for i in range(m):\n",
        "        for j in range(n):\n",
        "            temp = np.sum(np.minimum(M[i], N[j]))\n",
        "            result[i][j] = temp\n",
        "    return result"
      ],
      "execution_count": 0,
      "outputs": []
    },
    {
      "cell_type": "markdown",
      "metadata": {
        "id": "EK7T3lDWdEEZ",
        "colab_type": "text"
      },
      "source": [
        "##학습 데이터 pyramid 쌓기"
      ]
    },
    {
      "cell_type": "code",
      "metadata": {
        "id": "VbWES2X-UUJX",
        "colab_type": "code",
        "colab": {}
      },
      "source": [
        "X = [spatial_pyramid_matching(train_images[i], des_list[i], codeBook, level=2) for i in range(len(train_images))]"
      ],
      "execution_count": 0,
      "outputs": []
    },
    {
      "cell_type": "code",
      "metadata": {
        "id": "fB4Cli8wWau4",
        "colab_type": "code",
        "colab": {}
      },
      "source": [
        "X = np.array(X)\n",
        "y = np.array(labels)"
      ],
      "execution_count": 0,
      "outputs": []
    },
    {
      "cell_type": "code",
      "metadata": {
        "id": "p3-U4TLmCd_t",
        "colab_type": "code",
        "colab": {}
      },
      "source": [
        "from sklearn.preprocessing import StandardScaler\n",
        "\n",
        "scale = StandardScaler()\n",
        "X = scale.fit_transform(X)"
      ],
      "execution_count": 0,
      "outputs": []
    },
    {
      "cell_type": "markdown",
      "metadata": {
        "id": "_KGzzxZJmGSF",
        "colab_type": "text"
      },
      "source": [
        "##데이터셋 서브 샘플링 & Train-Validation 나누기"
      ]
    },
    {
      "cell_type": "code",
      "metadata": {
        "id": "qAiKwXLzmH-C",
        "colab_type": "code",
        "colab": {}
      },
      "source": [
        "X_train, X_valid, y_train, y_valid = train_test_split(X, y, test_size=0.1, random_state=0)"
      ],
      "execution_count": 0,
      "outputs": []
    },
    {
      "cell_type": "markdown",
      "metadata": {
        "id": "OpPQgXYumK5P",
        "colab_type": "text"
      },
      "source": [
        "##SVM 분류기 설계"
      ]
    },
    {
      "cell_type": "code",
      "metadata": {
        "id": "KmcLKYGaRXMX",
        "colab_type": "code",
        "colab": {}
      },
      "source": [
        "gramMatrix = histogramIntersection(X_train, X_train)\n",
        "# SPM을 통해서 만든 feature의 유사도를 구해서 gramMatrix를 정의"
      ],
      "execution_count": 0,
      "outputs": []
    },
    {
      "cell_type": "code",
      "metadata": {
        "id": "q6UNjKX5ggoL",
        "colab_type": "code",
        "outputId": "724f9227-47d2-4502-d2d6-f7d71e124ab7",
        "colab": {
          "base_uri": "https://localhost:8080/",
          "height": 35
        }
      },
      "source": [
        "gramMatrix.shape"
      ],
      "execution_count": 0,
      "outputs": [
        {
          "output_type": "execute_result",
          "data": {
            "text/plain": [
              "(2754, 2754)"
            ]
          },
          "metadata": {
            "tags": []
          },
          "execution_count": 26
        }
      ]
    },
    {
      "cell_type": "code",
      "metadata": {
        "id": "DBZad7cvQwVI",
        "colab_type": "code",
        "outputId": "d81efb31-8b74-4022-fb6e-aee3d38c4835",
        "colab": {
          "base_uri": "https://localhost:8080/",
          "height": 127
        }
      },
      "source": [
        "param_grid = {'kernel':['precomputed'], 'C':[0.001, 0.005, 0.01, 0.05, 0.1]}\n",
        "svc = SVC(gamma='scale')\n",
        "grid = GridSearchCV(svc, param_grid, cv=5)\n",
        "\n",
        "%time grid.fit(gramMatrix, y_train)\n",
        "print(grid.best_params_)"
      ],
      "execution_count": 0,
      "outputs": [
        {
          "output_type": "stream",
          "text": [
            "/usr/local/lib/python3.6/dist-packages/sklearn/model_selection/_search.py:814: DeprecationWarning: The default of the `iid` parameter will change from True to False in version 0.22 and will be removed in 0.24. This will change numeric results when test-set sizes are unequal.\n",
            "  DeprecationWarning)\n"
          ],
          "name": "stderr"
        },
        {
          "output_type": "stream",
          "text": [
            "CPU times: user 14.5 s, sys: 44.7 ms, total: 14.6 s\n",
            "Wall time: 14.6 s\n",
            "{'C': 0.005, 'kernel': 'precomputed'}\n"
          ],
          "name": "stdout"
        }
      ]
    },
    {
      "cell_type": "markdown",
      "metadata": {
        "id": "pKlrSYu-m9jF",
        "colab_type": "text"
      },
      "source": [
        "## 테스트 데이터 준비"
      ]
    },
    {
      "cell_type": "code",
      "metadata": {
        "id": "yyFKZGVmm-Mz",
        "colab_type": "code",
        "outputId": "fe2f986f-1c3b-45be-bc83-907590835433",
        "colab": {
          "base_uri": "https://localhost:8080/",
          "height": 67,
          "referenced_widgets": [
            "62d8d84f080549e0bf409ce17ae1af09",
            "85b65605e8ae493ab6fbdffdbd6f01f6",
            "d22b33c27f3746df8d10d7dbb8bfe0e0",
            "4c64f5c6b9aa4ef3be51c080b29751d5",
            "fb971f6a667e4012878a1340015648b7",
            "29e7cd9d752f4cb494f25923586df8d1",
            "98d89e4e67264ee88ba32fc1f3fa802d",
            "7b8e61282eb541ca935adb75e752aafe"
          ]
        }
      },
      "source": [
        "data_root_test = \"/content/input2/testAll_v2/\"\n",
        "\n",
        "img_list = os.listdir(data_root_test)\n",
        "des_list_test = []\n",
        "test_images = []\n",
        "\n",
        "img_path_test = [data_root_test + i for i in img_list]\n",
        "\n",
        "for img in tqdm_notebook(img_path_test):\n",
        "  image = cv2.imread(img)\n",
        "  image = cv2.resize(image, (256,256))\n",
        "  image_gray = cv2.cvtColor(image, cv2.COLOR_BGR2GRAY)\n",
        "  test_images.append(image_gray)\n",
        "\n",
        "  kp, des = dense_sift_each(image_gray)\n",
        "  des_list_test.append(des)"
      ],
      "execution_count": 0,
      "outputs": [
        {
          "output_type": "display_data",
          "data": {
            "application/vnd.jupyter.widget-view+json": {
              "model_id": "62d8d84f080549e0bf409ce17ae1af09",
              "version_minor": 0,
              "version_major": 2
            },
            "text/plain": [
              "HBox(children=(IntProgress(value=0, max=1692), HTML(value='')))"
            ]
          },
          "metadata": {
            "tags": []
          }
        },
        {
          "output_type": "stream",
          "text": [
            "\n"
          ],
          "name": "stdout"
        }
      ]
    },
    {
      "cell_type": "markdown",
      "metadata": {
        "id": "3a1Wvi8BqIbT",
        "colab_type": "text"
      },
      "source": [
        "##테스트 데이터 pyramid 쌓기"
      ]
    },
    {
      "cell_type": "code",
      "metadata": {
        "id": "GPVTLflgVxR9",
        "colab_type": "code",
        "colab": {}
      },
      "source": [
        "X_test = [spatial_pyramid_matching(test_images[i], des_list_test[i], codeBook, level=2) for i in range(len(test_images))]\n",
        "X_test = np.array(X_test)"
      ],
      "execution_count": 0,
      "outputs": []
    },
    {
      "cell_type": "markdown",
      "metadata": {
        "colab_type": "text",
        "id": "7OkRrPxKiWoM"
      },
      "source": [
        "##학습한 모델을 이용하여 테스트 데이터의 라벨 구하기"
      ]
    },
    {
      "cell_type": "code",
      "metadata": {
        "id": "LyaTM21hR1se",
        "colab_type": "code",
        "colab": {}
      },
      "source": [
        "predictMatrix = histogramIntersection(X_test, X_train)\n",
        "# test셋과 train셋에 대한 유사도를 구한 predictMatrix를 구함"
      ],
      "execution_count": 0,
      "outputs": []
    },
    {
      "cell_type": "code",
      "metadata": {
        "id": "Ree40uGxqNvv",
        "colab_type": "code",
        "colab": {}
      },
      "source": [
        "model = grid.best_estimator_\n",
        "y_pred = model.predict(predictMatrix)"
      ],
      "execution_count": 0,
      "outputs": []
    },
    {
      "cell_type": "code",
      "metadata": {
        "id": "tImr-QPTqPPv",
        "colab_type": "code",
        "colab": {}
      },
      "source": [
        "y_pred = y_pred.reshape(-1,1)\n",
        "result_img_list = np.array(img_list).reshape(-1,1)\n",
        "result = np.hstack([result_img_list,y_pred])"
      ],
      "execution_count": 0,
      "outputs": []
    },
    {
      "cell_type": "code",
      "metadata": {
        "id": "yxT4th6pqQE8",
        "colab_type": "code",
        "outputId": "e9feaf2d-39a7-493f-ff8e-3a887d2cbf43",
        "colab": {
          "base_uri": "https://localhost:8080/",
          "height": 143
        }
      },
      "source": [
        "print(result)"
      ],
      "execution_count": 0,
      "outputs": [
        {
          "output_type": "stream",
          "text": [
            "[['image_1389.jpg' '19']\n",
            " ['image_0810.jpg' '51']\n",
            " ['image_1265.jpg' '19']\n",
            " ...\n",
            " ['image_0532.jpg' '87']\n",
            " ['image_0288.jpg' '30']\n",
            " ['image_0906.jpg' '1']]\n"
          ],
          "name": "stdout"
        }
      ]
    },
    {
      "cell_type": "markdown",
      "metadata": {
        "id": "KUQHCZMoqUKw",
        "colab_type": "text"
      },
      "source": [
        "##결과 파일로 저장하여 Kaggle 제출 준비"
      ]
    },
    {
      "cell_type": "code",
      "metadata": {
        "id": "3d3RO5C3qUdr",
        "colab_type": "code",
        "colab": {}
      },
      "source": [
        "df = pd.DataFrame(result, columns=['id','Category'])\n",
        "df.to_csv('result-jhhwang.csv', index=False, header=True)"
      ],
      "execution_count": 0,
      "outputs": []
    },
    {
      "cell_type": "code",
      "metadata": {
        "id": "9KKCUBTrqUzF",
        "colab_type": "code",
        "outputId": "5f695ad5-0ee6-4109-b327-c7bbd5f28730",
        "colab": {
          "base_uri": "https://localhost:8080/",
          "height": 53
        }
      },
      "source": [
        "! kaggle competitions submit -c 2019-ml-finalproject -f result-jhhwang.csv -m \"Junghyun Hwang\""
      ],
      "execution_count": 0,
      "outputs": [
        {
          "output_type": "stream",
          "text": [
            "\r  0% 0.00/29.6k [00:00<?, ?B/s]\r100% 29.6k/29.6k [00:00<00:00, 98.2kB/s]\n",
            "Successfully submitted to 2019.Fall.PatternRecognition "
          ],
          "name": "stdout"
        }
      ]
    }
  ]
}